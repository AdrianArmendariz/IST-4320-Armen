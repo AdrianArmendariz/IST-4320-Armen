{
 "cells": [
  {
   "cell_type": "code",
   "execution_count": 6,
   "id": "2a3d2ca4-f65a-413d-8ff8-c7cb1f4946db",
   "metadata": {},
   "outputs": [],
   "source": [
    "import tkinter as tk\n",
    "main = tk.Tk()\n",
    "main.title(\"Character Stats Calculator\")\n",
    "label = tk.Label(main, text=\"Welcome to the Back 4 Blood card calculator!\", bg=\"red\", padx=10, pady=10, bd=3, relief=\"raised\")\n",
    "label2 = tk.Label(main, text =\"Please adjust sliders to the amount of cards you plan to select to view your overall stats\",)\n",
    "def calculate_stats(*args):\n",
    "    total_health = health_per_card * health_var.get()\n",
    "    total_stamina = stamina_per_card * stamina_var.get()\n",
    "    total_damage = damage_per_card * damage_var.get()\n",
    "    \n",
    "    health_label.config(text=f\"Total Added Health: {total_health}\")\n",
    "    stamina_label.config(text=f\"Total Added Stamina: {total_stamina}\")\n",
    "    damage_label.config(text=f\"Total Added Damage Percentage: {total_damage}\")\n",
    "\n",
    "health_per_card = 5\n",
    "stamina_per_card = 10\n",
    "damage_per_card = 3\n",
    "\n",
    "health_var = tk.IntVar()\n",
    "health_scale = tk.Scale(main, label=\"Select number of health cards:\", font=('calibre',15), fg=\"green\", from_=0, to=30, orient=tk.HORIZONTAL, variable=health_var, command=calculate_stats, length=500)\n",
    "\n",
    "stamina_var = tk.IntVar()\n",
    "stamina_scale = tk.Scale(main, label=\"Select number of stamina cards:\", font=('calibre',15), fg=\"teal\", from_=0, to=30, orient=tk.HORIZONTAL, variable=stamina_var, command=calculate_stats, length=500)\n",
    "\n",
    "damage_var = tk.IntVar()\n",
    "damage_scale = tk.Scale(main, label=\"Select number of damage cards:\", font=('calibre',15), fg=\"crimson\", from_=0, to=30, orient=tk.HORIZONTAL, variable=damage_var, command=calculate_stats, length=500)\n",
    "\n",
    "health_label = tk.Label(main, text=\"Total Added Health: 0\",fg=\"green\")\n",
    "stamina_label = tk.Label(main, text=\"Total Added Stamina: 0\",fg=\"teal\")\n",
    "damage_label = tk.Label(main, text=\"Total Added Damage Percentage: 0\",fg=\"crimson\" )\n",
    "\n",
    "button = tk.Button(main, text=\"Exit\", bg=\"red\", \n",
    "    command = main.destroy)\n",
    "label.pack()\n",
    "label2.pack()\n",
    "health_scale.pack(anchor='w')\n",
    "stamina_scale.pack(anchor='w')\n",
    "damage_scale.pack(anchor='w')\n",
    "health_label.pack()\n",
    "stamina_label.pack()\n",
    "damage_label.pack()\n",
    "button.pack() \n",
    "main.mainloop()\n"
   ]
  },
  {
   "cell_type": "code",
   "execution_count": null,
   "id": "92fe3600-ed1e-4a92-8e45-597339c78c0f",
   "metadata": {},
   "outputs": [],
   "source": []
  }
 ],
 "metadata": {
  "kernelspec": {
   "display_name": "Python 3 (ipykernel)",
   "language": "python",
   "name": "python3"
  },
  "language_info": {
   "codemirror_mode": {
    "name": "ipython",
    "version": 3
   },
   "file_extension": ".py",
   "mimetype": "text/x-python",
   "name": "python",
   "nbconvert_exporter": "python",
   "pygments_lexer": "ipython3",
   "version": "3.11.7"
  }
 },
 "nbformat": 4,
 "nbformat_minor": 5
}

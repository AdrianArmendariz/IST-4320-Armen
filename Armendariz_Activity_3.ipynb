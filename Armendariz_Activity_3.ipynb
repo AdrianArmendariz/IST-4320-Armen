{
 "cells": [
  {
   "cell_type": "markdown",
   "metadata": {
    "id": "8FNB9xJdHXCl"
   },
   "source": [
    "#### Lists and Dictionaries - Practice Exercises\n"
   ]
  },
  {
   "cell_type": "code",
   "execution_count": null,
   "metadata": {},
   "outputs": [],
   "source": []
  },
  {
   "cell_type": "code",
   "execution_count": 14,
   "metadata": {
    "executionInfo": {
     "elapsed": 273,
     "status": "ok",
     "timestamp": 1616609085504,
     "user": {
      "displayName": "Benjamin Becerra",
      "photoUrl": "",
      "userId": "08853271431683877596"
     },
     "user_tz": 420
    },
    "id": "syWUy2SoGF4j"
   },
   "outputs": [
    {
     "name": "stdout",
     "output_type": "stream",
     "text": [
      "6\n",
      "1\n",
      "13\n",
      "41\n"
     ]
    }
   ],
   "source": [
    "# 1a - Make a list object of the numbers 1,4,6,8,9,13\n",
    "number_list = [1,4,6,8,9,13]\n",
    "# fix the code :)\n",
    "# 1b - Write code to describe the number of elements, minimum, max, and sum.\n",
    "print(len(number_list))\n",
    "print(min(number_list))\n",
    "print(max(number_list))\n",
    "print(sum(number_list))"
   ]
  },
  {
   "cell_type": "code",
   "execution_count": 15,
   "metadata": {
    "id": "7rEEVVQlIgzV"
   },
   "outputs": [
    {
     "name": "stdout",
     "output_type": "stream",
     "text": [
      "13\n"
     ]
    }
   ],
   "source": [
    "#2a - I want to delete the number 8 in the list. Fix the code so it works :)\n",
    "del number_list[3]\n",
    "(number_list)\n",
    "#2b - Help me save the last element 13 into an integer object number_13\n",
    "number_13 = int(number_list[4])\n",
    "print(number_13)"
   ]
  },
  {
   "cell_type": "code",
   "execution_count": 34,
   "metadata": {
    "id": "MONruuandRtH"
   },
   "outputs": [
    {
     "name": "stdout",
     "output_type": "stream",
     "text": [
      "['A', 'Dictionary', 'in', 'Python', 'works', 'similar', 'to', 'the', 'Dictionary', 'in', 'the', 'real', 'world.', 'Keys', 'of', 'a', 'Dictionary', 'must', 'be', 'unique', 'and', 'of', 'immutable', 'data', 'type', 'such', 'as', 'Strings,', 'Integers', 'and', 'tuples,', 'but', 'the', 'key-values', 'can', 'be', 'repeated', 'and', 'be', 'of', 'any', 'type.']\n",
      "A Dictionary in Python works similar to the Dictionary in the real world.\n"
     ]
    }
   ],
   "source": [
    "#3a - convert the following text string into a list\n",
    "#Example \"hello there\" becomes [\"hello\",\"there\"]\n",
    "text_string = \"A Dictionary in Python works similar to the Dictionary in the real world. Keys of a Dictionary must be unique and of immutable data type such as Strings, Integers and tuples, but the key-values can be repeated and be of any type.\"\n",
    "Q3_list = text_string.split()\n",
    "print(Q3_list)\n",
    "\n",
    "#3b - Use slicing to only show the first sentence in the text_string list object\n",
    "print(text_string[0:73])"
   ]
  },
  {
   "cell_type": "code",
   "execution_count": 5,
   "metadata": {
    "colab": {
     "base_uri": "https://localhost:8080/"
    },
    "executionInfo": {
     "elapsed": 326,
     "status": "ok",
     "timestamp": 1616611123500,
     "user": {
      "displayName": "Benjamin Becerra",
      "photoUrl": "",
      "userId": "08853271431683877596"
     },
     "user_tz": 420
    },
    "id": "giIRD_A-KWOB",
    "outputId": "96ca6505-4635-4636-c40a-4912a9ed2894",
    "tags": []
   },
   "outputs": [
    {
     "name": "stdout",
     "output_type": "stream",
     "text": [
      "{'Series': 'I', 'X': 10.0, 'Y': 8.04}\n",
      "[10.0, 8.04]\n"
     ]
    }
   ],
   "source": [
    "#4a - This data is in json format (which converts to dictionary very well!).\n",
    "# Extract the first element in the list\n",
    "import json\n",
    " \n",
    "# Opening JSON file\n",
    "with open('anscombe.json') as json_file:\n",
    "    data = json.load(json_file)\n",
    "#print(data) #Extract the first element from here! HINT: What type of object is it? type() can help\n",
    "print(data[0])\n",
    "\n",
    "#4b - Now extract the 'X' and 'Y' values from the first element of the original list only. Place them into a list 😀. This could be challenging...\n",
    "# Example: [10.0, 8.04]\n",
    "first=data[0]\n",
    "xvalue = [first[\"X\"]]\n",
    "yvalue = [first[\"Y\"]]\n",
    "xylist = list(xvalue) + list(yvalue)\n",
    "print(xylist)\n",
    "\n",
    "#4c - OPTIONAL: OK MORE of a challenge... NOW that you got the first element's X and Y values, keep going! Generate a final list of lists\n",
    "# Example: [[10.0, 8.04], [8.0, 6.95], [13.0, 7.58], [9.0, 8.81], ...,] \n",
    "# Hint: use the iterable range(len(data))\n"
   ]
  },
  {
   "cell_type": "markdown",
   "metadata": {
    "id": "lGYOk9dSxxUF"
   },
   "source": [
    "Copyright Benjamin J. Becerra v2022.02.02.0\n",
    "\n",
    "\n"
   ]
  }
 ],
 "metadata": {
  "colab": {
   "authorship_tag": "ABX9TyMrsz6oIP2oU43ztn6gRx1B",
   "collapsed_sections": [],
   "name": "IST 4320 - Activity 3",
   "provenance": [
    {
     "file_id": "1q97GFrrPp3hziPFu5ifOw42gxicEOOph",
     "timestamp": 1614703906533
    },
    {
     "file_id": "1BxfsP6eSV0WcCeKXubPjB_bPfeIlsrET",
     "timestamp": 1613752512311
    },
    {
     "file_id": "1AGXQ3YAP9M0bl4iWugCyI4hkEtbelsOf",
     "timestamp": 1612219576473
    }
   ]
  },
  "kernelspec": {
   "display_name": "Python 3 (ipykernel)",
   "language": "python",
   "name": "python3"
  },
  "language_info": {
   "codemirror_mode": {
    "name": "ipython",
    "version": 3
   },
   "file_extension": ".py",
   "mimetype": "text/x-python",
   "name": "python",
   "nbconvert_exporter": "python",
   "pygments_lexer": "ipython3",
   "version": "3.10.6"
  }
 },
 "nbformat": 4,
 "nbformat_minor": 4
}

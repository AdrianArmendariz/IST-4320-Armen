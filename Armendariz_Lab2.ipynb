{
 "cells": [
  {
   "cell_type": "code",
   "execution_count": 2,
   "id": "3289e27f-4df9-464f-9e4b-59521ea46e64",
   "metadata": {},
   "outputs": [
    {
     "name": "stdout",
     "output_type": "stream",
     "text": [
      "Tuple of ZIP codes: ('90210', '60601', '94102')\n",
      "Reversed tuple of ZIP codes: ('94102', '60601', '90210')\n"
     ]
    }
   ],
   "source": [
    "#Question 1a : Given a list of cities and their corresponding ZIP codes, extract the ZIP codes and organize them into a tuple. \n",
    "\n",
    "zipcode = {'90210':'Beverly Hills, CA', '60601': 'Chicago, IL', '94102':'San Francisco, CA'}\n",
    "\n",
    "zip_tuple = tuple(zipcode.keys())\n",
    "print(\"Tuple of ZIP codes:\", zip_tuple)\n",
    "\n",
    "reversed_zip_tuple = tuple(reversed(zip_tuple))\n",
    "print(\"Reversed tuple of ZIP codes:\", reversed_zip_tuple) \n",
    "    \n",
    "    \n",
    "    \n",
    "#Question 1b: Rearrange the tuple in reverse order from 1a. \n",
    "\n",
    "\n",
    "\n"
   ]
  },
  {
   "cell_type": "code",
   "execution_count": 3,
   "id": "0119a72c-2b26-469e-a8f2-e0b36b62935f",
   "metadata": {},
   "outputs": [
    {
     "name": "stdout",
     "output_type": "stream",
     "text": [
      "Extracted text: apples\n",
      "Sentence with 'apples': I need to buy apples.\n",
      "Starting position: 55\n",
      "Ending position: 61\n"
     ]
    }
   ],
   "source": [
    "# question 2 : Here is a list of groceries. The user needs help extracting the text \"apples\" and placing the text \"apples\" into the sentence below.\n",
    "#  Please use regular expressions. ( regex ) \n",
    "import re\n",
    "\n",
    "random_text = \"Milk, eggs, bread, butter, cheese, fresh fruits (e.g., apples, bananas), fresh vegetables (e.g., lettuce, tomatoes), rice, pasta, canned tomatoes, chicken breasts or thighs, ground beef or turkey, cooking oil (e.g., olive oil), spices (e.g., salt, pepper), snacks (e.g., chips, nuts)\"\n",
    "\n",
    "match = re.search(r'\\bapples\\b', random_text)\n",
    "\n",
    "if match:\n",
    "    apples_text = match.group()\n",
    "    print(\"Extracted text:\", apples_text)\n",
    "\n",
    "    sentence_with_apples = \"I need to buy {}.\".format(apples_text)\n",
    "    print(\"Sentence with 'apples':\", sentence_with_apples)\n",
    "\n",
    "    start_pos = match.start()\n",
    "    end_pos = match.end()\n",
    "    print(\"Starting position:\", start_pos)\n",
    "    print(\"Ending position:\", end_pos)\n",
    "else:\n",
    "    print(\"Text 'apples' not found in random_text.\")\n",
    "      \n",
    "      \n"
   ]
  },
  {
   "cell_type": "code",
   "execution_count": 14,
   "id": "bae211a8-20d1-44c2-97bf-5ed98fc4cd74",
   "metadata": {},
   "outputs": [
    {
     "name": "stdout",
     "output_type": "stream",
     "text": [
      "Recipe Ingredients:\n",
      "- 2 (9\")   pie crusts\n",
      "- 7 large   Granny Smith apples (peeled, cored and sliced into ½ inch slices)\n",
      "- ½ cup   granulated sugar\n",
      "- ½ cup   light brown sugar (loosely packed)\n",
      "- 2 tablespoons   all-purpose flour\n",
      "- 1 teaspoon   ground cinnamon\n",
      "- ⅛ teaspoon   ground nutmeg\n",
      "- 1 tablespoon   lemon juice (plus the zest of half of a lemon)\n",
      "- 1 large   egg (lightly beaten in a small bowl for egg wash)\n",
      "- 2 tablespoons   sanding sugar (optional)\n"
     ]
    }
   ],
   "source": [
    "# question 3 : \n",
    "#I have a link to a recipe for making apple pie, perfect for celebrating Pi Day. \n",
    "#I'm seeking assistance with extracting the 'recipeIngredient' section from the website. \n",
    "#A helpful hint is that we could utilize the 'json' module for this task.\n",
    "from bs4 import BeautifulSoup\n",
    "from urllib.request import Request, urlopen\n",
    "\n",
    "site =\"https://littlespoonfarm.com/apple-pie-recipe/\"\n",
    "\n",
    "req = Request(site, headers={'User-Agent': 'Mozilla/5.0'})\n",
    "webpage = urlopen(req).read()\n",
    "soup = BeautifulSoup(webpage, 'html.parser')\n",
    "ingredient_section = soup.find('div', class_='wprm-recipe-ingredients-container')\n",
    "if ingredient_section:\n",
    "    recipe_ingredients = ingredient_section.find_all('li')\n",
    "    print(\"Recipe Ingredients:\")\n",
    "    for ingredient in recipe_ingredients:\n",
    "        print(\"-\", ingredient.get_text().strip())"
   ]
  },
  {
   "cell_type": "code",
   "execution_count": 15,
   "id": "96c51918-ae9b-493a-9803-88087a586dad",
   "metadata": {},
   "outputs": [
    {
     "name": "stdout",
     "output_type": "stream",
     "text": [
      "Even numbers from setA: {-70, -60, 36, 74, 42, -52, 12, -20, -82, 18, -46, -14, 88, -38}\n",
      "Odd numbers from setB: {-95, -31, -29, 69, 41, 91, 79, -67, 17, -13, -73, 25, 27, -35, 63}\n",
      "Intersection between set2 and set3: {9, 2, 5, 6}\n"
     ]
    }
   ],
   "source": [
    "# question 4 :\n",
    "# Here are two sets \n",
    "#4a: Create a code for the user who wants to extract only even numbers from setA.\n",
    "setA = {-82, 45, -27, 69, -14, 83, 57, -91, 36, -3, 18, -60, 74, -38, 5, -70, 29, 91, -52, 12, -46, 63, -9, 42, 77, -65, 21, -37, 88, -20}\n",
    "\n",
    "even_numbers = {num for num in setA if num % 2 == 0}\n",
    "print(\"Even numbers from setA:\", even_numbers)\n",
    "\n",
    "#4b: Create a code for the user who wants to extract only odd numbers from setB.\n",
    "setB = {-88, 17, -42, 69, -31, 58, 74, -95, 25, -13, 36, -67, 82, -50, 41, -73, 6, 91, -29, 52, -84, 27, -20, 63, 79, -58, 12, -35, 88, -16}\n",
    "\n",
    "odd_numbers = {num for num in setB if num % 2 != 0}\n",
    "print(\"Odd numbers from setB:\", odd_numbers)    \n",
    " \n",
    "#4c: Find the intersection between set2 and set3.\n",
    "set2 = {1,2,4,5,6,7,8,9}\n",
    "set3 = {2,9,5,6,15,13}\n",
    "\n",
    "intersection_set = set2.intersection(set3)\n",
    "print(\"Intersection between set2 and set3:\", intersection_set)\n",
    "\n",
    "\n"
   ]
  },
  {
   "cell_type": "code",
   "execution_count": null,
   "id": "39186245-0a7e-48c4-b0e5-c0b2e8cdb8ed",
   "metadata": {},
   "outputs": [],
   "source": [
    "# Question 5\n",
    "#Upload your completed lab to your GitHub and submit the link to yout Git Hub account."
   ]
  }
 ],
 "metadata": {
  "kernelspec": {
   "display_name": "Python 3 (ipykernel)",
   "language": "python",
   "name": "python3"
  },
  "language_info": {
   "codemirror_mode": {
    "name": "ipython",
    "version": 3
   },
   "file_extension": ".py",
   "mimetype": "text/x-python",
   "name": "python",
   "nbconvert_exporter": "python",
   "pygments_lexer": "ipython3",
   "version": "3.10.6"
  }
 },
 "nbformat": 4,
 "nbformat_minor": 5
}
